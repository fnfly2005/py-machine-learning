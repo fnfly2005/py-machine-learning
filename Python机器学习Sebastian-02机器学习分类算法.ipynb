{
 "cells": [
  {
   "cell_type": "markdown",
   "metadata": {},
   "source": [
    "本章将涵盖如下内容：\n",
    "+ 培养对机器学习算法的直观认识\n",
    "+ 使用pandas、numpy和matplotlib读取、处理和可视化数据\n",
    "+ 使用python实现线性分类算法 \n",
    "\n",
    "5\n",
    "# 2.1 人造神经元-早期机器学习概览\n",
    "为了理解大脑的工作原理以设计人工智能系统，沃伦·麦卡洛可与沃尔特·皮茨在1943年提出了第一个脑神经元的抽象模型，也称作麦卡洛可-皮茨神经元（MCP），神经元是大脑中互相连接的神经细胞，它可以处理和传递化学和电信号，如下图所示  \n",
    "![2-1](../syn_pic/py_machine_learning/2-1.png)\n",
    "麦卡洛可和皮茨将神经细胞描述为一个具备二进制输出的逻辑门  \n",
    "几年后，弗兰克·罗森布拉特基于MCP神经元模型提出了第一个感知器学习法则。在规则中提出了一个自学习算法，此算法可以自动通过优化得到权重系数，此系数与输入值的乘积决定了神经元是否被激活  \n",
    "我们把问题看作一个二值分类的任务，把两类分别记为1(正类别)和-1(负类别) 5  \n",
    "我们可以定义一个激励函数$\\varphi (z)$,它以特定的输入值x与相应的权值向量w的线性组合作为输入，其中，z也称作净输入($z=w_1x_1+\\dots+w_mx_m$):  \n",
    "$$w=\\left[\\begin{matrix}w_1 \\cr \\dots \\cr w_m\\end{matrix}\\right],x=\\left[\\begin{matrix}x_1 \\cr \\dots \\cr x_m\\end{matrix}\\right]$$  \n",
    "此时，对于一个特定样本$x^{(i)}$的激励，也就是$\\varphi(z)$的输出，如果其值大于预设的阈值$\\theta$，我们将其划分到1类，否则为-1类  \n",
    "在感知器算法中，激励函数$\\varphi (z)$是一个简单的分段函数  \n",
    "$$\\phi{(z)}=\\begin{cases}1&若z\\ge\\theta \\cr -1&其他\\end{cases}$$\n",
    "5  \n",
    "我们可以把阈值$\\theta$移到等式的左边，并增加一个初始项权重记为$w_0=-\\theta$且设$x_0=1$，这样我们就可以把z写成一个更加紧凑的形式：  \n",
    "$$z=w_0x_0+w_1x_1+\\dots+w_mx_m=w^Tx,\\theta(z)=\\begin{cases}1&若z\\ge\\theta \\cr -1&其他\\end{cases}$$\n",
    "注意：下面的小节中，使用向量点积来表示x和w乘积的和，而上标T则表示转置，它使得行向量和列向量之间能够互相转换  \n",
    "下图中，左图说明了感知器模型的激励函数如何将输入$z=w^Tx$转换到二值输出(-1或1),右图说明了感知器模型如何将两个可区分类别进行线性区分  \n",
    "![2-2](../syn_pic/py_machine_learning/2-2.png)\n",
    "5  \n",
    "MCP神经元和罗森布拉特阈值感知器的理念就是，通过模拟的方式还原大脑中单个神经元的工作方式：它是否被激活。最初的规则可总结为如下几步：  \n",
    "1. 将权重初始化为零或一个极小的随机数  \n",
    "2. 迭代所有训练样本$x^{(i)}$，执行如下操作：\n",
    "    1. 计算输出值$\\hat{y}$\n",
    "    2. 更新权重\n",
    "    \n",
    "5  \n",
    "这里的输出值是指通过前面定义的单位阶跃函数预测得出的类标，而每次对权重向量中每一权重w的更新方式为：  \n",
    "$$w_j: = w_j + \\Delta{w_j}$$\n",
    "对于用于更新权重$w_j$的值$\\Delta w_j$, 可通过感知器学习规则计算获得：\n",
    "$$\\Delta{w_j} = \\eta(y^{(i)}-\\hat{y}^{(i)})x_j^{(i)}$$\n",
    "其中，$\\eta$为学习速率（一个介于0.0到1.0之间的常数）,$y^{(i)}$为第i个样本的真实类标，$\\hat{y}^{(i)}$为预测得到的类标 5  \n"
   ]
  }
 ],
 "metadata": {
  "kernelspec": {
   "display_name": "Python 3",
   "language": "python",
   "name": "python3"
  },
  "language_info": {
   "codemirror_mode": {
    "name": "ipython",
    "version": 3
   },
   "file_extension": ".py",
   "mimetype": "text/x-python",
   "name": "python",
   "nbconvert_exporter": "python",
   "pygments_lexer": "ipython3",
   "version": "3.7.1"
  },
  "toc": {
   "base_numbering": 1,
   "nav_menu": {},
   "number_sections": false,
   "sideBar": true,
   "skip_h1_title": false,
   "title_cell": "Table of Contents",
   "title_sidebar": "Contents",
   "toc_cell": false,
   "toc_position": {},
   "toc_section_display": true,
   "toc_window_display": false
  }
 },
 "nbformat": 4,
 "nbformat_minor": 4
}
