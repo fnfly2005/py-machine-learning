{
 "cells": [
  {
   "cell_type": "markdown",
   "metadata": {},
   "source": [
    "# 本章简介\n",
    "本章，我们将通过对算法进行调优来构建性能良好的机器学习模型，并对模型性能进行评估：\n",
    "+ 模型性能的无偏估计\n",
    "+ 处理机器学习中的常见问题\n",
    "+ 机器学习模型调优\n",
    "+ 使用不同的性能指标评估预测模型 5\n",
    "\n",
    "# 6.1 基于流水线的工作流\n",
    "> 介绍了如何使用sklearn中的工具类pipline使得工作更加高效  \n",
    "\n",
    "sklearn中的pipline类使得我们可以拟合出包含任意多个处理步骤的模型，并将模型用于新数据的预测 5  \n",
    "## 6.1.1 加载威斯康星乳腺癌数据集\n",
    "> 介绍了如何加载威斯康星乳腺癌数据集并进行预处理  "
   ]
  },
  {
   "cell_type": "markdown",
   "metadata": {},
   "source": [
    "第一步：加载数据集"
   ]
  },
  {
   "cell_type": "code",
   "execution_count": null,
   "metadata": {},
   "outputs": [],
   "source": [
    "'''\n",
    "python\tsklearn\tDatasets\tload_breast_cancer()\n",
    "python\tsklearn\tDatasets\tload_*() as_frame\n",
    "python\tsklearn\tDatasets\tload_*() frame\n",
    "'''\n",
    "from sklearn.datasets import load_breast_cancer\n",
    "bc = load_breast_cancer(as_frame=True)\n",
    "df = bc.frame\n",
    "df.head()"
   ]
  },
  {
   "cell_type": "markdown",
   "metadata": {},
   "source": [
    "第二步：对类标编码，此时恶性肿瘤和良性肿瘤分别被标识为类1和类0  "
   ]
  },
  {
   "cell_type": "code",
   "execution_count": null,
   "metadata": {},
   "outputs": [],
   "source": [
    "'''\n",
    "5\n",
    "'''\n",
    "import numpy as np\n",
    "X = df.iloc[:, :-2].values\n",
    "y = df.iloc[:, -1].values\n",
    "np.unique(y)"
   ]
  },
  {
   "cell_type": "markdown",
   "metadata": {},
   "source": [
    "第三步：我们将数据集划分为训练数据集(80%)和单独的测试数据集(20%)  "
   ]
  },
  {
   "cell_type": "code",
   "execution_count": null,
   "metadata": {},
   "outputs": [],
   "source": [
    "'''\n",
    "5\n",
    "python\tsklearn\tModel Selection\ttrain_test_split()\n",
    "'''\n",
    "from sklearn.model_selection import train_test_split\n",
    "X_train, X_test, y_train, y_test = \\\n",
    "    train_test_split(X, y, test_size=0.20, random_state=1)"
   ]
  },
  {
   "cell_type": "markdown",
   "metadata": {},
   "source": [
    "## 6.1.2 在流水线中集成数据转换及评估操作\n",
    "> 介绍了如何通过pipeline实现预处理、训练等一系列操作以及pipeline的工作方式  \n",
    "\n",
    "我们需要对数据特征列做标准化处理，此外，我们还想通过第5章介绍过的主成分分析降维到二维子空间，最后我们使用逻辑斯蒂回归模型分析数据  "
   ]
  },
  {
   "cell_type": "code",
   "execution_count": null,
   "metadata": {},
   "outputs": [],
   "source": [
    "'''\n",
    "python\tsklearn\tPreprocessing and Normalization\tStandardScaler()\n",
    "python\tsklearn\tMatrix Decomposition\tPCA()\n",
    "python\tsklearn\tpipeline\tPipeline()\n",
    "'''\n",
    "from sklearn.preprocessing import StandardScaler\n",
    "from sklearn.decomposition import PCA\n",
    "from sklearn.linear_model import LogisticRegression\n",
    "from sklearn.pipeline import Pipeline\n",
    "pipe_lr = Pipeline([('scl', StandardScaler()),\n",
    "                   ('pca', PCA(n_components=2)),\n",
    "                   ('clf', LogisticRegression(random_state=1))])\n",
    "pipe_lr.fit(X_train, y_train)\n",
    "print('Test Accuracy: {:.3f}'.format(pipe_lr.score(X_test, y_test)))"
   ]
  }
 ],
 "metadata": {
  "kernelspec": {
   "display_name": "Python 3",
   "language": "python",
   "name": "python3"
  },
  "language_info": {
   "codemirror_mode": {
    "name": "ipython",
    "version": 3
   },
   "file_extension": ".py",
   "mimetype": "text/x-python",
   "name": "python",
   "nbconvert_exporter": "python",
   "pygments_lexer": "ipython3",
   "version": "3.7.6"
  },
  "toc": {
   "base_numbering": 1,
   "nav_menu": {},
   "number_sections": false,
   "sideBar": true,
   "skip_h1_title": false,
   "title_cell": "Table of Contents",
   "title_sidebar": "Contents",
   "toc_cell": false,
   "toc_position": {},
   "toc_section_display": true,
   "toc_window_display": false
  }
 },
 "nbformat": 4,
 "nbformat_minor": 4
}
