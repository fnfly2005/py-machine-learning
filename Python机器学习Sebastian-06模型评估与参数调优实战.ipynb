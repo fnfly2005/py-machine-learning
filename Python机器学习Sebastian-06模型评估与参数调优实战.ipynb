{
 "cells": [
  {
   "cell_type": "markdown",
   "metadata": {},
   "source": [
    "本章，我们将通过对算法进行调优来构建性能良好的机器学习模型，并对模型性能进行评估：\n",
    "+ 模型性能的无偏估计\n",
    "+ 处理机器学习中的常见问题\n",
    "+ 机器学习模型调优\n",
    "+ 使用不同的性能指标评估预测模型 5\n",
    "\n",
    "# 6.1 基于流水线的工作流"
   ]
  }
 ],
 "metadata": {
  "kernelspec": {
   "display_name": "Python 3",
   "language": "python",
   "name": "python3"
  },
  "language_info": {
   "codemirror_mode": {
    "name": "ipython",
    "version": 3
   },
   "file_extension": ".py",
   "mimetype": "text/x-python",
   "name": "python",
   "nbconvert_exporter": "python",
   "pygments_lexer": "ipython3",
   "version": "3.7.1"
  },
  "toc": {
   "base_numbering": 1,
   "nav_menu": {},
   "number_sections": false,
   "sideBar": true,
   "skip_h1_title": false,
   "title_cell": "Table of Contents",
   "title_sidebar": "Contents",
   "toc_cell": false,
   "toc_position": {},
   "toc_section_display": true,
   "toc_window_display": false
  }
 },
 "nbformat": 4,
 "nbformat_minor": 4
}
