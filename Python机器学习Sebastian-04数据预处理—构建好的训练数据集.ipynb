{
 "cells": [
  {
   "cell_type": "markdown",
   "metadata": {},
   "source": [
    "# 本章简介\n",
    "机器学习算法最终学习结果的优劣取决于两个主要因素：数据的质量和数据中蕴含的有用信息的数量。因此，对其进行检验及预处理是至关重要的  \n",
    "在本章中，我们将讨论主要的数据预处理技术，这些技术可以高效地构建好的机器学习模型  \n",
    "本章将涵盖如下主题：  \n",
    "+ 数据集中缺失数据的删除和填充\n",
    "+ 数据格式化\n",
    "+ 模型构建中的特征选择 5  \n",
    "\n",
    "# 4.1 缺失数据的处理\n",
    "> 作者介绍了数据删除、数据填充两种缺失处理手段及其使用方法  \n",
    "\n",
    "通常，我们见到的缺失值是数据表中的空值，或者类似于NaN的占位符  \n",
    "如果我们忽略这些缺失值，将导致大部分的计算工具无法对原始数据进行处理，或者得到某些不可预知的结果  \n",
    "我们先通过一个文件构造一个简单的例子  "
   ]
  },
  {
   "cell_type": "code",
   "execution_count": null,
   "metadata": {},
   "outputs": [],
   "source": [
    "'''\n",
    "5\n",
    "python\tio\tStringIO\tStringIO()\n",
    "\n",
    "'''\n",
    "import pandas as pd\n",
    "from io import StringIO\n",
    "csv_data = '''A,B,C,D\n",
    "1.0,2.0,3.0,4.0\n",
    "5.0,6.0,,8.0\n",
    "10.0,11.0,12.0,'''\n",
    "df = pd.read_csv(StringIO(csv_data))\n",
    "df"
   ]
  },
  {
   "cell_type": "markdown",
   "metadata": {},
   "source": [
    "我们可以使用代码中的isnull返回一个布尔型的DataFrame值,通过sum方法，我们可以得到如下所示的每列中缺失值数量：  "
   ]
  },
  {
   "cell_type": "code",
   "execution_count": null,
   "metadata": {},
   "outputs": [],
   "source": [
    "'''\n",
    "python\tpython\tdataframe\tisna()\n",
    "'''\n",
    "df.isna().sum()"
   ]
  },
  {
   "cell_type": "markdown",
   "metadata": {},
   "source": [
    "在我们使用sklearn处理数据之前，可以通过dataframe的value属性来访问相关的numpy数组  "
   ]
  },
  {
   "cell_type": "code",
   "execution_count": null,
   "metadata": {},
   "outputs": [],
   "source": [
    "'''\n",
    "5\n",
    "python\tpandas\tdataframe\tvalues\n",
    "'''\n",
    "df.values"
   ]
  },
  {
   "cell_type": "markdown",
   "metadata": {},
   "source": [
    "## 4.1.1 将存在缺失值的特征或样本删除\n",
    "> 介绍了如何使用dataframe中的dropna进行缺失值删除的操作"
   ]
  },
  {
   "cell_type": "markdown",
   "metadata": {},
   "source": [
    "删除数据集中包含缺失值的行"
   ]
  },
  {
   "cell_type": "code",
   "execution_count": null,
   "metadata": {},
   "outputs": [],
   "source": [
    "df.dropna()"
   ]
  },
  {
   "cell_type": "markdown",
   "metadata": {},
   "source": [
    "删除数据集中至少包含一个NaN值的列"
   ]
  },
  {
   "cell_type": "code",
   "execution_count": null,
   "metadata": {},
   "outputs": [],
   "source": [
    "'''\n",
    "5  \n",
    "python\tpandas\tdataframe\tdropna() axis\n",
    "'''\n",
    "df.dropna(axis=1)"
   ]
  },
  {
   "cell_type": "markdown",
   "metadata": {},
   "source": [
    "只删除所有列为NaN的行"
   ]
  },
  {
   "cell_type": "code",
   "execution_count": null,
   "metadata": {},
   "outputs": [],
   "source": [
    "'''\n",
    "python\tpandas\tdataframe\tdropna() how\n",
    "'''\n",
    "df.dropna(how='all') "
   ]
  },
  {
   "cell_type": "markdown",
   "metadata": {},
   "source": [
    "只删除指定列含有NaN的行"
   ]
  },
  {
   "cell_type": "code",
   "execution_count": null,
   "metadata": {
    "scrolled": true
   },
   "outputs": [],
   "source": [
    "'''\n",
    "python\tpandas\tdataframe\tdropna() subset\n",
    "'''\n",
    "df.dropna(subset=['C'])"
   ]
  },
  {
   "cell_type": "markdown",
   "metadata": {},
   "source": [
    "我们可能会删除过多的样本，导致分析结果可靠性不高。从另一方面讲，如果删除了过多的特征列，有可能会面临丢失有价值信息的风险，而这些信息是分类器用来区分类别所必需的 5  \n",
    "## 4.1.2 缺失数据填充\n",
    "> 作者介绍了最常用的处理确实数据的方法-插值技术  \n",
    "\n",
    "最常用的插值技术之一就是均值插补，即使用相应的特征均值来替换缺失值  "
   ]
  },
  {
   "cell_type": "code",
   "execution_count": null,
   "metadata": {},
   "outputs": [],
   "source": [
    "'''\n",
    "5\n",
    "python\tsklearn\tImpute\tSimpleImputer()\n",
    "'''\n",
    "from sklearn.impute import SimpleImputer\n",
    "imr = SimpleImputer(strategy='mean')\n",
    "imr = imr.fit(df)\n",
    "imputed_data = imr.transform(df.values)\n",
    "imputed_data"
   ]
  },
  {
   "cell_type": "markdown",
   "metadata": {},
   "source": [
    "## 4.1.3 理解sklearn预估器的API\n",
    "> 本节介绍了sklearn预估器的API及其使用方法  \n",
    "\n",
    "Imputer类属于sklearn中的转换器类，主要用于数据的转换。这些类中常用的两个方法是fit和transform  \n",
    "其中，fit方法用于对数据集中的参数进行识别并构建相应的数据补齐模型，而transform方法则使用刚构建的数据补齐模型中其他数据的维度相同  \n",
    "![3-13](../syn_pic/py_machine_learning/3-13.png)\n",
    "我们在第3章中用到了分类器，它们在sklearn中属于预估器类别，其API的设计与转换器非常相似，预估器类包含一个predict方法，同时也包含一个transform方法 5  \n",
    "![3-14](../syn_pic/py_machine_learning/3-14.png)\n",
    "5  \n",
    "# 4.2 处理类别数据\n",
    "> 本章介绍了处理类别数据的方法：针对有序特征的映射，以及针对标称特征的编码和独热编码  \n",
    "\n",
    "在真实数据集中，经常会出现一个或多个类别数据的特征列。在讨论类别数据时，又可以进一步将他们划分为标称特征和有序特征  \n",
    "有序特征为类别的值是可以排序的，而标称数据则不具备排序的特性 "
   ]
  },
  {
   "cell_type": "code",
   "execution_count": null,
   "metadata": {},
   "outputs": [],
   "source": [
    "import pandas as pd\n",
    "df = pd.DataFrame([\n",
    "    ['green', 'M', 10.1, 'class1'],\n",
    "    ['red', 'L', 13.5, 'class2'],\n",
    "    ['blue', 'XL', 15.3, 'class1']])\n",
    "\n",
    "df.columns = ['color', 'size', 'price', 'classlabel']\n",
    "df"
   ]
  }
 ],
 "metadata": {
  "kernelspec": {
   "display_name": "Python 3",
   "language": "python",
   "name": "python3"
  },
  "language_info": {
   "codemirror_mode": {
    "name": "ipython",
    "version": 3
   },
   "file_extension": ".py",
   "mimetype": "text/x-python",
   "name": "python",
   "nbconvert_exporter": "python",
   "pygments_lexer": "ipython3",
   "version": "3.7.6"
  },
  "toc": {
   "base_numbering": 1,
   "nav_menu": {},
   "number_sections": false,
   "sideBar": true,
   "skip_h1_title": false,
   "title_cell": "Table of Contents",
   "title_sidebar": "Contents",
   "toc_cell": false,
   "toc_position": {},
   "toc_section_display": true,
   "toc_window_display": false
  }
 },
 "nbformat": 4,
 "nbformat_minor": 4
}
